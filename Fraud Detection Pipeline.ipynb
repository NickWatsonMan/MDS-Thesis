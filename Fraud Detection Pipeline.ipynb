{
 "cells": [
  {
   "cell_type": "markdown",
   "id": "5523e43b",
   "metadata": {},
   "source": [
    "# 1. Libraries Import"
   ]
  },
  {
   "cell_type": "code",
   "execution_count": 1,
   "id": "7bffa6f4",
   "metadata": {},
   "outputs": [],
   "source": [
    "import numpy as np\n",
    "import pandas as pd\n",
    "from sklearn.preprocessing import LabelEncoder\n",
    "from sklearn.model_selection import KFold, train_test_split\n",
    "from sklearn.tree import DecisionTreeClassifier\n",
    "from sklearn.linear_model import LogisticRegression\n",
    "from sklearn.ensemble import AdaBoostClassifier, RandomForestClassifier, GradientBoostingClassifier, BaggingClassifier, ExtraTreesClassifier\n",
    "from sklearn.calibration import CalibratedClassifierCV\n",
    "from sklearn.base import BaseEstimator\n",
    "from sklearn.preprocessing import MinMaxScaler\n",
    "from sklearn.metrics import hamming_loss, roc_auc_score, confusion_matrix, roc_curve, f1_score, balanced_accuracy_score, matthews_corrcoef\n",
    "\n",
    "from imblearn.over_sampling import SMOTE, ADASYN\n",
    "from imblearn.under_sampling import RandomUnderSampler\n",
    "\n",
    "from time import time\n",
    "from copy import deepcopy"
   ]
  },
  {
   "cell_type": "code",
   "execution_count": 2,
   "id": "7a63415a",
   "metadata": {},
   "outputs": [
    {
     "data": {
      "text/plain": [
       "'/usr/local/opt/python@3.11/bin/python3.11'"
      ]
     },
     "execution_count": 2,
     "metadata": {},
     "output_type": "execute_result"
    }
   ],
   "source": [
    "import sys\n",
    "sys.executable"
   ]
  },
  {
   "cell_type": "markdown",
   "id": "5334cb0a",
   "metadata": {},
   "source": [
    "## 2. Class for sampling based classifier"
   ]
  },
  {
   "cell_type": "code",
   "execution_count": 3,
   "id": "39fb6654",
   "metadata": {},
   "outputs": [],
   "source": [
    "class SamplingClassifier(BaseEstimator):\n",
    "    def __init__(self, est = LogisticRegression(), samp = None):\n",
    "        self.est_ = deepcopy(est)\n",
    "        self.samp_ = samp\n",
    "        \n",
    "    def fit(self, X, y):\n",
    "        if self.samp_ is None:\n",
    "            X_res, y_res = X, y\n",
    "        else:\n",
    "            X_res, y_res = self.samp_.fit_resample(X, y)\n",
    "        self.est_.fit(X_res, y_res)\n",
    "        \n",
    "    def predict(self, X):\n",
    "        return self.est_.predict(X)"
   ]
  },
  {
   "cell_type": "markdown",
   "id": "64310e1f",
   "metadata": {},
   "source": [
    "## 3. Setting up DES Models  \n",
    "Dynamic Ensemble Selection methods"
   ]
  },
  {
   "cell_type": "code",
   "execution_count": 4,
   "id": "730c8c81",
   "metadata": {},
   "outputs": [],
   "source": [
    "from deslib.dcs.a_priori import APriori\n",
    "from deslib.dcs.mcb import MCB  \n",
    "from deslib.dcs.ola import OLA  \n",
    "from deslib.des.des_p import DESP           \n",
    "from deslib.des.knora_e import KNORAE       \n",
    "from deslib.des.knora_u import KNORAU       \n",
    "from deslib.des.meta_des import METADES     \n",
    "from deslib.static import StackedClassifier, Oracle"
   ]
  },
  {
   "cell_type": "code",
   "execution_count": 5,
   "id": "9fb98b74",
   "metadata": {},
   "outputs": [],
   "source": [
    "#deslib has the use of deprecated np.int and np.float. Set the types manually.\n",
    "np.int = int\n",
    "np.float = float"
   ]
  },
  {
   "cell_type": "code",
   "execution_count": 6,
   "id": "435dc27e",
   "metadata": {},
   "outputs": [],
   "source": [
    "class DES(BaseEstimator):\n",
    "    def __init__(self, pool = RandomForestClassifier(n_estimators = 100, max_features = 'auto', random_state = 1), model = KNORAE):\n",
    "        self.pool = pool\n",
    "        self.model = model\n",
    "        self.est = None\n",
    "        \n",
    "    def fit(self, X, y, dsel_size = 0.5):\n",
    "        X_train, X_dsel, y_train, y_dsel = train_test_split(X, y, test_size = dsel_size,random_state = 101)\n",
    "        self.pool.fit(X_train, y_train)\n",
    "        self.est = self.model(pool_classifiers = self.pool, random_state = 101).fit(X_dsel, y_dsel)\n",
    "        \n",
    "    def predict(self,X):\n",
    "        return self.est.predict(X) "
   ]
  },
  {
   "cell_type": "markdown",
   "id": "1c9629ee",
   "metadata": {},
   "source": [
    "## 4. Helper functions"
   ]
  },
  {
   "cell_type": "code",
   "execution_count": 49,
   "id": "87df4e20",
   "metadata": {},
   "outputs": [],
   "source": [
    "def is_pareto_efficient(costs):\n",
    "    \"\"\"\n",
    "    Find the pareto-efficient points\n",
    "    :param costs: An (n_points, n_costs) array\n",
    "    :return: A (n_points, ) boolean array, indicating whether each point is Pareto efficient\n",
    "    \"\"\"\n",
    "    is_efficient = np.ones(costs.shape[0], dtype = bool)\n",
    "    for i, c in enumerate(costs):\n",
    "        if is_efficient[i]:\n",
    "            is_efficient[is_efficient] = np.any(costs[is_efficient]<c, axis=1)  # Keep any point with a lower cost\n",
    "            is_efficient[i] = True  # And keep self\n",
    "    return is_efficient"
   ]
  },
  {
   "cell_type": "code",
   "execution_count": 50,
   "id": "5071788b",
   "metadata": {},
   "outputs": [],
   "source": [
    "def pareto_ranking(data, labels):\n",
    "    '''\n",
    "    Pareto ranking the pandas dataframe by selected variables\n",
    "    : param data : A pandas dataframe\n",
    "    : param labels : A list of columns to rank\n",
    "    % return: the same dataframe with additinal column 'pareto_rank' \n",
    "    '''\n",
    "    matrix = data[labels].values # Матрица пары значений FNR-FPR\n",
    "    idx_ = np.array([i for i in data.index])\n",
    "    pareto_sets = []\n",
    "    idx_sets = []\n",
    "    pareto_set_found = True\n",
    "    while pareto_set_found:\n",
    "        pareto_set_found = False\n",
    "        pareto_set = is_pareto_efficient(matrix)\n",
    "        if len(matrix[pareto_set] > 0):\n",
    "            pareto_sets.append(matrix[pareto_set])\n",
    "            idx_sets.append(idx_[pareto_set])\n",
    "            matrix = matrix[np.invert(pareto_set)]\n",
    "            idx_ = idx_[np.invert(pareto_set)]\n",
    "            pareto_set_found = True\n",
    "    \n",
    "    data['pareto_rank'] = np.empty(data.shape[0])\n",
    "    for p_rank, idx in enumerate(idx_sets):\n",
    "        for i in idx:\n",
    "            data.at[i,'pareto_rank'] = p_rank + 1 \n",
    "    \n",
    "    return data\n",
    "\n",
    "def pareto_plot(df, var):\n",
    "    plt.scatter(df[var[0]], df[var[1]], c = 'b')\n",
    "    plt.scatter(df[df.pareto_rank == 1][var[0]], df[df.pareto_rank == 1][var[1]], c = 'r')\n",
    "    plt.xlabel(var[0])\n",
    "    plt.ylabel(var[1])"
   ]
  },
  {
   "cell_type": "code",
   "execution_count": 51,
   "id": "cfba4282",
   "metadata": {},
   "outputs": [],
   "source": [
    "def crowding_distance(data, labels):\n",
    "    matrix = data[labels]\n",
    "    matrix['dist'] = np.zeros(data.shape[0])\n",
    "    for l in labels:\n",
    "        matrix.sort_values(by = l, inplace = True)\n",
    "        matrix.dist = matrix.dist + (matrix.shift(periods = -1)[l] - matrix.shift(periods = 1)[l])/(matrix[l].max() - matrix[l].min())\n",
    "\n",
    "    for l in labels:\n",
    "        matrix.at[np.argmin(matrix[l]), 'dist'] = np.inf\n",
    "        matrix.at[np.argmax(matrix[l]), 'dist'] = np.inf\n",
    "    \n",
    "    new_data = deepcopy(data)\n",
    "    new_data['distance'] = matrix.dist\n",
    "    return new_data"
   ]
  },
  {
   "cell_type": "code",
   "execution_count": 52,
   "id": "781b17a2",
   "metadata": {},
   "outputs": [],
   "source": [
    "def cross_val_predict(est, X, y, cv = 4):\n",
    "    start = time()\n",
    "    pred = np.empty(X.shape[0])\n",
    "    #print('Start of the KFold. [%.1f s]' %(time() - start))\n",
    "    kf = KFold(n_splits = cv, shuffle = True, random_state = 101)\n",
    "    for train_index, test_index in kf.split(X, y):\n",
    "        #print('Another Split. [%.1f s]' %(time() - start))\n",
    "        est.fit(X[train_index], y[train_index])\n",
    "        pred[test_index] = est.predict(X[test_index])\n",
    "    return pred"
   ]
  },
  {
   "cell_type": "code",
   "execution_count": 53,
   "id": "c398314a",
   "metadata": {},
   "outputs": [],
   "source": [
    "def test_models(models, X, y, C_FP = 1, C_FN = 5, k = 2, cv  = 4, verbose = True):\n",
    "    '''\n",
    "    Cross val testing of set of models defined by dict {'model_name' : model}\n",
    "    Returns the dict  {'model' : [], 'f1' : [], 'bacc' : [], 'FPR' : [], 'FNR' : [], 'Costs' : []}\n",
    "    '''\n",
    "    scores = {'model' : [], 'F1' : [], 'G_mean' : [], 'AUC' : [], 'FPR' : [], 'FNR' : [], 'Gen_mean' : [], 'Costs' : [], 'MCC' : []}\n",
    "    #big_start = time()\n",
    "    #print('Start of the cycle. [%.1f s]' %(time() - big_start))\n",
    "    for m in models:\n",
    "        #print('Start of another model. [%.1f s]' %(time() - big_start))\n",
    "        start = time()\n",
    "        \n",
    "        #print('Start of the prediction. [%.1f s]' %(time() - start))\n",
    "        y_pred = cross_val_predict(models[m], X, y, cv = cv)\n",
    "        \n",
    "        #print('Start of the confusion matrix.[%.1f s]' %(time() - start))\n",
    "        cm = confusion_matrix(y, y_pred)\n",
    "        scores['model'].append(m)\n",
    "        scores['F1'].append(f1_score(y, y_pred))\n",
    "        scores['FPR'].append(cm[0,1] / (cm[0,0] + cm[0,1]))\n",
    "        scores['FNR'].append(cm[1,0] / (cm[1,0] + cm[1,1]))\n",
    "        scores['G_mean'].append((cm[0,0] / (cm[0,0] + cm[0,1]) * cm[1,1] / (cm[1,0] + cm[1,1])) ** 0.5)\n",
    "        scores['AUC'].append(roc_auc_score(y, y_pred))\n",
    "        scores['Gen_mean'].append((((cm[0,0] / (cm[0,0] + cm[0,1]))**k + (cm[1,1] / (cm[1,0] + cm[1,1]))**k) / 2) ** (1/k))\n",
    "        scores['Costs'].append(cm[1,0]*C_FN / (cm[1,0] + cm[1,1]) + cm[0,1] * C_FP / (cm[0,0] + cm[0,1]))\n",
    "        scores['MCC'].append(matthews_corrcoef(y, y_pred))\n",
    "        \n",
    "        if verbose:\n",
    "            print('%10s: F1 = %.3f G_mean = %.3f AUC = %.3f FPR = %.3f FNR = %.3f Costs = %.3f Gen_mean = %.3f MCC = %.3f [%.1f s]' \n",
    "                  %(m, scores['F1'][-1],  scores['G_mean'][-1], scores['AUC'][-1], \n",
    "                    scores['FPR'][-1], scores['FNR'][-1], scores['Costs'][-1], scores['Gen_mean'][-1], scores['MCC'][-1], time() - start))\n",
    "    return pd.DataFrame(scores)"
   ]
  },
  {
   "cell_type": "markdown",
   "id": "bd3a4002",
   "metadata": {},
   "source": [
    "## 5. Data Loading and Feature Engineering"
   ]
  },
  {
   "cell_type": "code",
   "execution_count": 54,
   "id": "365195a3",
   "metadata": {},
   "outputs": [],
   "source": [
    "id_df = pd.read_csv('./data/identity.csv')\n",
    "tr_df = pd.read_csv('./data/transaction.csv')"
   ]
  },
  {
   "cell_type": "code",
   "execution_count": 55,
   "id": "7973a287",
   "metadata": {},
   "outputs": [
    {
     "data": {
      "text/html": [
       "<div>\n",
       "<style scoped>\n",
       "    .dataframe tbody tr th:only-of-type {\n",
       "        vertical-align: middle;\n",
       "    }\n",
       "\n",
       "    .dataframe tbody tr th {\n",
       "        vertical-align: top;\n",
       "    }\n",
       "\n",
       "    .dataframe thead th {\n",
       "        text-align: right;\n",
       "    }\n",
       "</style>\n",
       "<table border=\"1\" class=\"dataframe\">\n",
       "  <thead>\n",
       "    <tr style=\"text-align: right;\">\n",
       "      <th></th>\n",
       "      <th>TransactionID</th>\n",
       "      <th>id_01</th>\n",
       "      <th>id_02</th>\n",
       "      <th>id_03</th>\n",
       "      <th>id_04</th>\n",
       "      <th>id_05</th>\n",
       "      <th>id_06</th>\n",
       "      <th>id_07</th>\n",
       "      <th>id_08</th>\n",
       "      <th>id_09</th>\n",
       "      <th>...</th>\n",
       "      <th>id_31</th>\n",
       "      <th>id_32</th>\n",
       "      <th>id_33</th>\n",
       "      <th>id_34</th>\n",
       "      <th>id_35</th>\n",
       "      <th>id_36</th>\n",
       "      <th>id_37</th>\n",
       "      <th>id_38</th>\n",
       "      <th>DeviceType</th>\n",
       "      <th>DeviceInfo</th>\n",
       "    </tr>\n",
       "  </thead>\n",
       "  <tbody>\n",
       "    <tr>\n",
       "      <th>0</th>\n",
       "      <td>2987004</td>\n",
       "      <td>0.0</td>\n",
       "      <td>70787.0</td>\n",
       "      <td>NaN</td>\n",
       "      <td>NaN</td>\n",
       "      <td>NaN</td>\n",
       "      <td>NaN</td>\n",
       "      <td>NaN</td>\n",
       "      <td>NaN</td>\n",
       "      <td>NaN</td>\n",
       "      <td>...</td>\n",
       "      <td>samsung browser 6.2</td>\n",
       "      <td>32.0</td>\n",
       "      <td>2220x1080</td>\n",
       "      <td>match_status:2</td>\n",
       "      <td>T</td>\n",
       "      <td>F</td>\n",
       "      <td>T</td>\n",
       "      <td>T</td>\n",
       "      <td>mobile</td>\n",
       "      <td>SAMSUNG SM-G892A Build/NRD90M</td>\n",
       "    </tr>\n",
       "    <tr>\n",
       "      <th>1</th>\n",
       "      <td>2987008</td>\n",
       "      <td>-5.0</td>\n",
       "      <td>98945.0</td>\n",
       "      <td>NaN</td>\n",
       "      <td>NaN</td>\n",
       "      <td>0.0</td>\n",
       "      <td>-5.0</td>\n",
       "      <td>NaN</td>\n",
       "      <td>NaN</td>\n",
       "      <td>NaN</td>\n",
       "      <td>...</td>\n",
       "      <td>mobile safari 11.0</td>\n",
       "      <td>32.0</td>\n",
       "      <td>1334x750</td>\n",
       "      <td>match_status:1</td>\n",
       "      <td>T</td>\n",
       "      <td>F</td>\n",
       "      <td>F</td>\n",
       "      <td>T</td>\n",
       "      <td>mobile</td>\n",
       "      <td>iOS Device</td>\n",
       "    </tr>\n",
       "    <tr>\n",
       "      <th>2</th>\n",
       "      <td>2987010</td>\n",
       "      <td>-5.0</td>\n",
       "      <td>191631.0</td>\n",
       "      <td>0.0</td>\n",
       "      <td>0.0</td>\n",
       "      <td>0.0</td>\n",
       "      <td>0.0</td>\n",
       "      <td>NaN</td>\n",
       "      <td>NaN</td>\n",
       "      <td>0.0</td>\n",
       "      <td>...</td>\n",
       "      <td>chrome 62.0</td>\n",
       "      <td>NaN</td>\n",
       "      <td>NaN</td>\n",
       "      <td>NaN</td>\n",
       "      <td>F</td>\n",
       "      <td>F</td>\n",
       "      <td>T</td>\n",
       "      <td>T</td>\n",
       "      <td>desktop</td>\n",
       "      <td>Windows</td>\n",
       "    </tr>\n",
       "    <tr>\n",
       "      <th>3</th>\n",
       "      <td>2987011</td>\n",
       "      <td>-5.0</td>\n",
       "      <td>221832.0</td>\n",
       "      <td>NaN</td>\n",
       "      <td>NaN</td>\n",
       "      <td>0.0</td>\n",
       "      <td>-6.0</td>\n",
       "      <td>NaN</td>\n",
       "      <td>NaN</td>\n",
       "      <td>NaN</td>\n",
       "      <td>...</td>\n",
       "      <td>chrome 62.0</td>\n",
       "      <td>NaN</td>\n",
       "      <td>NaN</td>\n",
       "      <td>NaN</td>\n",
       "      <td>F</td>\n",
       "      <td>F</td>\n",
       "      <td>T</td>\n",
       "      <td>T</td>\n",
       "      <td>desktop</td>\n",
       "      <td>NaN</td>\n",
       "    </tr>\n",
       "    <tr>\n",
       "      <th>4</th>\n",
       "      <td>2987016</td>\n",
       "      <td>0.0</td>\n",
       "      <td>7460.0</td>\n",
       "      <td>0.0</td>\n",
       "      <td>0.0</td>\n",
       "      <td>1.0</td>\n",
       "      <td>0.0</td>\n",
       "      <td>NaN</td>\n",
       "      <td>NaN</td>\n",
       "      <td>0.0</td>\n",
       "      <td>...</td>\n",
       "      <td>chrome 62.0</td>\n",
       "      <td>24.0</td>\n",
       "      <td>1280x800</td>\n",
       "      <td>match_status:2</td>\n",
       "      <td>T</td>\n",
       "      <td>F</td>\n",
       "      <td>T</td>\n",
       "      <td>T</td>\n",
       "      <td>desktop</td>\n",
       "      <td>MacOS</td>\n",
       "    </tr>\n",
       "  </tbody>\n",
       "</table>\n",
       "<p>5 rows × 41 columns</p>\n",
       "</div>"
      ],
      "text/plain": [
       "   TransactionID  id_01     id_02  id_03  id_04  id_05  id_06  id_07  id_08   \n",
       "0        2987004    0.0   70787.0    NaN    NaN    NaN    NaN    NaN    NaN  \\\n",
       "1        2987008   -5.0   98945.0    NaN    NaN    0.0   -5.0    NaN    NaN   \n",
       "2        2987010   -5.0  191631.0    0.0    0.0    0.0    0.0    NaN    NaN   \n",
       "3        2987011   -5.0  221832.0    NaN    NaN    0.0   -6.0    NaN    NaN   \n",
       "4        2987016    0.0    7460.0    0.0    0.0    1.0    0.0    NaN    NaN   \n",
       "\n",
       "   id_09  ...                id_31  id_32      id_33           id_34  id_35   \n",
       "0    NaN  ...  samsung browser 6.2   32.0  2220x1080  match_status:2      T  \\\n",
       "1    NaN  ...   mobile safari 11.0   32.0   1334x750  match_status:1      T   \n",
       "2    0.0  ...          chrome 62.0    NaN        NaN             NaN      F   \n",
       "3    NaN  ...          chrome 62.0    NaN        NaN             NaN      F   \n",
       "4    0.0  ...          chrome 62.0   24.0   1280x800  match_status:2      T   \n",
       "\n",
       "  id_36 id_37  id_38  DeviceType                     DeviceInfo  \n",
       "0     F     T      T      mobile  SAMSUNG SM-G892A Build/NRD90M  \n",
       "1     F     F      T      mobile                     iOS Device  \n",
       "2     F     T      T     desktop                        Windows  \n",
       "3     F     T      T     desktop                            NaN  \n",
       "4     F     T      T     desktop                          MacOS  \n",
       "\n",
       "[5 rows x 41 columns]"
      ]
     },
     "execution_count": 55,
     "metadata": {},
     "output_type": "execute_result"
    }
   ],
   "source": [
    "id_df.head(5)"
   ]
  },
  {
   "cell_type": "code",
   "execution_count": 56,
   "id": "05a4d98b",
   "metadata": {},
   "outputs": [
    {
     "data": {
      "text/html": [
       "<div>\n",
       "<style scoped>\n",
       "    .dataframe tbody tr th:only-of-type {\n",
       "        vertical-align: middle;\n",
       "    }\n",
       "\n",
       "    .dataframe tbody tr th {\n",
       "        vertical-align: top;\n",
       "    }\n",
       "\n",
       "    .dataframe thead th {\n",
       "        text-align: right;\n",
       "    }\n",
       "</style>\n",
       "<table border=\"1\" class=\"dataframe\">\n",
       "  <thead>\n",
       "    <tr style=\"text-align: right;\">\n",
       "      <th></th>\n",
       "      <th>TransactionID</th>\n",
       "      <th>isFraud</th>\n",
       "      <th>TransactionDT</th>\n",
       "      <th>TransactionAmt</th>\n",
       "      <th>ProductCD</th>\n",
       "      <th>card1</th>\n",
       "      <th>card2</th>\n",
       "      <th>card3</th>\n",
       "      <th>card4</th>\n",
       "      <th>card5</th>\n",
       "      <th>...</th>\n",
       "      <th>V330</th>\n",
       "      <th>V331</th>\n",
       "      <th>V332</th>\n",
       "      <th>V333</th>\n",
       "      <th>V334</th>\n",
       "      <th>V335</th>\n",
       "      <th>V336</th>\n",
       "      <th>V337</th>\n",
       "      <th>V338</th>\n",
       "      <th>V339</th>\n",
       "    </tr>\n",
       "  </thead>\n",
       "  <tbody>\n",
       "    <tr>\n",
       "      <th>0</th>\n",
       "      <td>2987000</td>\n",
       "      <td>0</td>\n",
       "      <td>86400</td>\n",
       "      <td>68.5</td>\n",
       "      <td>W</td>\n",
       "      <td>13926</td>\n",
       "      <td>NaN</td>\n",
       "      <td>150.0</td>\n",
       "      <td>discover</td>\n",
       "      <td>142.0</td>\n",
       "      <td>...</td>\n",
       "      <td>NaN</td>\n",
       "      <td>NaN</td>\n",
       "      <td>NaN</td>\n",
       "      <td>NaN</td>\n",
       "      <td>NaN</td>\n",
       "      <td>NaN</td>\n",
       "      <td>NaN</td>\n",
       "      <td>NaN</td>\n",
       "      <td>NaN</td>\n",
       "      <td>NaN</td>\n",
       "    </tr>\n",
       "    <tr>\n",
       "      <th>1</th>\n",
       "      <td>2987001</td>\n",
       "      <td>0</td>\n",
       "      <td>86401</td>\n",
       "      <td>29.0</td>\n",
       "      <td>W</td>\n",
       "      <td>2755</td>\n",
       "      <td>404.0</td>\n",
       "      <td>150.0</td>\n",
       "      <td>mastercard</td>\n",
       "      <td>102.0</td>\n",
       "      <td>...</td>\n",
       "      <td>NaN</td>\n",
       "      <td>NaN</td>\n",
       "      <td>NaN</td>\n",
       "      <td>NaN</td>\n",
       "      <td>NaN</td>\n",
       "      <td>NaN</td>\n",
       "      <td>NaN</td>\n",
       "      <td>NaN</td>\n",
       "      <td>NaN</td>\n",
       "      <td>NaN</td>\n",
       "    </tr>\n",
       "    <tr>\n",
       "      <th>2</th>\n",
       "      <td>2987002</td>\n",
       "      <td>0</td>\n",
       "      <td>86469</td>\n",
       "      <td>59.0</td>\n",
       "      <td>W</td>\n",
       "      <td>4663</td>\n",
       "      <td>490.0</td>\n",
       "      <td>150.0</td>\n",
       "      <td>visa</td>\n",
       "      <td>166.0</td>\n",
       "      <td>...</td>\n",
       "      <td>NaN</td>\n",
       "      <td>NaN</td>\n",
       "      <td>NaN</td>\n",
       "      <td>NaN</td>\n",
       "      <td>NaN</td>\n",
       "      <td>NaN</td>\n",
       "      <td>NaN</td>\n",
       "      <td>NaN</td>\n",
       "      <td>NaN</td>\n",
       "      <td>NaN</td>\n",
       "    </tr>\n",
       "    <tr>\n",
       "      <th>3</th>\n",
       "      <td>2987003</td>\n",
       "      <td>0</td>\n",
       "      <td>86499</td>\n",
       "      <td>50.0</td>\n",
       "      <td>W</td>\n",
       "      <td>18132</td>\n",
       "      <td>567.0</td>\n",
       "      <td>150.0</td>\n",
       "      <td>mastercard</td>\n",
       "      <td>117.0</td>\n",
       "      <td>...</td>\n",
       "      <td>NaN</td>\n",
       "      <td>NaN</td>\n",
       "      <td>NaN</td>\n",
       "      <td>NaN</td>\n",
       "      <td>NaN</td>\n",
       "      <td>NaN</td>\n",
       "      <td>NaN</td>\n",
       "      <td>NaN</td>\n",
       "      <td>NaN</td>\n",
       "      <td>NaN</td>\n",
       "    </tr>\n",
       "    <tr>\n",
       "      <th>4</th>\n",
       "      <td>2987004</td>\n",
       "      <td>0</td>\n",
       "      <td>86506</td>\n",
       "      <td>50.0</td>\n",
       "      <td>H</td>\n",
       "      <td>4497</td>\n",
       "      <td>514.0</td>\n",
       "      <td>150.0</td>\n",
       "      <td>mastercard</td>\n",
       "      <td>102.0</td>\n",
       "      <td>...</td>\n",
       "      <td>0.0</td>\n",
       "      <td>0.0</td>\n",
       "      <td>0.0</td>\n",
       "      <td>0.0</td>\n",
       "      <td>0.0</td>\n",
       "      <td>0.0</td>\n",
       "      <td>0.0</td>\n",
       "      <td>0.0</td>\n",
       "      <td>0.0</td>\n",
       "      <td>0.0</td>\n",
       "    </tr>\n",
       "  </tbody>\n",
       "</table>\n",
       "<p>5 rows × 394 columns</p>\n",
       "</div>"
      ],
      "text/plain": [
       "   TransactionID  isFraud  TransactionDT  TransactionAmt ProductCD  card1   \n",
       "0        2987000        0          86400            68.5         W  13926  \\\n",
       "1        2987001        0          86401            29.0         W   2755   \n",
       "2        2987002        0          86469            59.0         W   4663   \n",
       "3        2987003        0          86499            50.0         W  18132   \n",
       "4        2987004        0          86506            50.0         H   4497   \n",
       "\n",
       "   card2  card3       card4  card5  ... V330  V331  V332  V333  V334 V335   \n",
       "0    NaN  150.0    discover  142.0  ...  NaN   NaN   NaN   NaN   NaN  NaN  \\\n",
       "1  404.0  150.0  mastercard  102.0  ...  NaN   NaN   NaN   NaN   NaN  NaN   \n",
       "2  490.0  150.0        visa  166.0  ...  NaN   NaN   NaN   NaN   NaN  NaN   \n",
       "3  567.0  150.0  mastercard  117.0  ...  NaN   NaN   NaN   NaN   NaN  NaN   \n",
       "4  514.0  150.0  mastercard  102.0  ...  0.0   0.0   0.0   0.0   0.0  0.0   \n",
       "\n",
       "  V336  V337  V338  V339  \n",
       "0  NaN   NaN   NaN   NaN  \n",
       "1  NaN   NaN   NaN   NaN  \n",
       "2  NaN   NaN   NaN   NaN  \n",
       "3  NaN   NaN   NaN   NaN  \n",
       "4  0.0   0.0   0.0   0.0  \n",
       "\n",
       "[5 rows x 394 columns]"
      ]
     },
     "execution_count": 56,
     "metadata": {},
     "output_type": "execute_result"
    }
   ],
   "source": [
    "tr_df.head(5)"
   ]
  },
  {
   "cell_type": "code",
   "execution_count": 57,
   "id": "8d96acbc",
   "metadata": {},
   "outputs": [
    {
     "name": "stdout",
     "output_type": "stream",
     "text": [
      "Transaction dataset has 590540 rows and 394 columns.\n"
     ]
    }
   ],
   "source": [
    "print(f'Transaction dataset has {tr_df.shape[0]} rows and {tr_df.shape[1]} columns.')"
   ]
  },
  {
   "cell_type": "code",
   "execution_count": 58,
   "id": "abc9d690",
   "metadata": {},
   "outputs": [],
   "source": [
    "# Let's combine two datasets\n",
    "df = pd.merge(tr_df, id_df, on='TransactionID', how='left')"
   ]
  },
  {
   "cell_type": "code",
   "execution_count": 59,
   "id": "dfafda57",
   "metadata": {},
   "outputs": [
    {
     "name": "stdout",
     "output_type": "stream",
     "text": [
      "Test dataset has 590540 rows and 434 columns.\n"
     ]
    }
   ],
   "source": [
    "print(f'Test dataset has {df.shape[0]} rows and {df.shape[1]} columns.')"
   ]
  },
  {
   "cell_type": "code",
   "execution_count": 60,
   "id": "6e81d411",
   "metadata": {},
   "outputs": [
    {
     "data": {
      "text/plain": [
       "66"
      ]
     },
     "execution_count": 60,
     "metadata": {},
     "output_type": "execute_result"
    }
   ],
   "source": [
    "one_value_cols = [col for col in df.columns if df[col].nunique() <= 1]\n",
    "many_null_cols = [col for col in df.columns if df[col].isnull().sum() / df.shape[0] > 0.9]\n",
    "big_top_value_cols = [col for col in df.columns if df[col].value_counts(dropna=False, normalize=True).values[0] > 0.9]\n",
    "cols_to_drop = list(set(many_null_cols + big_top_value_cols + one_value_cols))\n",
    "cols_to_drop.remove('isFraud')\n",
    "len(cols_to_drop)"
   ]
  },
  {
   "cell_type": "code",
   "execution_count": 61,
   "id": "1bbf7cff",
   "metadata": {},
   "outputs": [],
   "source": [
    "df = df.drop(cols_to_drop, axis=1)"
   ]
  },
  {
   "cell_type": "code",
   "execution_count": 62,
   "id": "49c7254c",
   "metadata": {},
   "outputs": [
    {
     "data": {
      "text/plain": [
       "TransactionID       int64\n",
       "isFraud             int64\n",
       "TransactionDT       int64\n",
       "TransactionAmt    float64\n",
       "ProductCD          object\n",
       "                   ...   \n",
       "id_36              object\n",
       "id_37              object\n",
       "id_38              object\n",
       "DeviceType         object\n",
       "DeviceInfo         object\n",
       "Length: 368, dtype: object"
      ]
     },
     "execution_count": 62,
     "metadata": {},
     "output_type": "execute_result"
    }
   ],
   "source": [
    "df.dtypes"
   ]
  },
  {
   "cell_type": "code",
   "execution_count": 63,
   "id": "4579adaa",
   "metadata": {},
   "outputs": [],
   "source": [
    "str_columns = df.select_dtypes(include='object').columns.tolist()"
   ]
  },
  {
   "cell_type": "code",
   "execution_count": 64,
   "id": "1da3d0c0",
   "metadata": {},
   "outputs": [],
   "source": [
    "for col in str_columns:\n",
    "    if col in df.columns:\n",
    "        le = LabelEncoder()\n",
    "        le.fit(list(df[col].astype(str).values))\n",
    "        df[col] = le.transform(list(df[col].astype(str).values))"
   ]
  },
  {
   "cell_type": "code",
   "execution_count": 65,
   "id": "33161523",
   "metadata": {},
   "outputs": [
    {
     "data": {
      "text/plain": [
       "(590540, 368)"
      ]
     },
     "execution_count": 65,
     "metadata": {},
     "output_type": "execute_result"
    }
   ],
   "source": [
    "df.shape"
   ]
  },
  {
   "cell_type": "code",
   "execution_count": 66,
   "id": "cd29b21a",
   "metadata": {},
   "outputs": [],
   "source": [
    "useful_features = ['TransactionAmt', 'ProductCD', 'card1', 'card2', 'card3', 'card4', 'card5', 'card6', 'addr1', 'addr2', 'dist1',\n",
    "                   'P_emaildomain', 'R_emaildomain', 'C1', 'C2', 'C4', 'C5', 'C6', 'C7', 'C8', 'C9', 'C10', 'C11', 'C12', 'C13',\n",
    "                   'C14', 'D1', 'D2', 'D3', 'D4', 'D5', 'D6', 'D8', 'D9', 'D10', 'D11', 'D12', 'D13', 'D14', 'D15', 'M2', 'M3',\n",
    "                   'M4', 'M5', 'M6', 'M7', 'M8', 'M9', 'V3', 'V4', 'V5', 'V6', 'V7', 'V8', 'V9', 'V10', 'V11', 'V12', 'V13', 'V17',\n",
    "                   'V19', 'V20', 'V29', 'V30', 'V33', 'V34', 'V35', 'V36', 'V37', 'V38', 'V40', 'V44', 'V45', 'V46', 'V47', 'V48',\n",
    "                   'V49', 'V51', 'V52', 'V53', 'V54', 'V56', 'V58', 'V59', 'V60', 'V61', 'V62', 'V63', 'V64', 'V69', 'V70', 'V71',\n",
    "                   'V72', 'V73', 'V74', 'V75', 'V76', 'V78', 'V80', 'V81', 'V82', 'V83', 'V84', 'V85', 'V87', 'V90', 'V91', 'V92',\n",
    "                   'V93', 'V94', 'V95', 'V96', 'V97', 'V99', 'V100', 'V126', 'V127', 'V128', 'V130', 'V131', 'V138', 'V139', 'V140',\n",
    "                   'V143', 'V145', 'V146', 'V147', 'V149', 'V150', 'V151', 'V152', 'V154', 'V156', 'V158', 'V159', 'V160', 'V161',\n",
    "                   'V162', 'V163', 'V164', 'V165', 'V166', 'V167', 'V169', 'V170', 'V171', 'V172', 'V173', 'V175', 'V176', 'V177',\n",
    "                   'V178', 'V180', 'V182', 'V184', 'V187', 'V188', 'V189', 'V195', 'V197', 'V200', 'V201', 'V202', 'V203', 'V204',\n",
    "                   'V205', 'V206', 'V207', 'V208', 'V209', 'V210', 'V212', 'V213', 'V214', 'V215', 'V216', 'V217', 'V219', 'V220',\n",
    "                   'V221', 'V222', 'V223', 'V224', 'V225', 'V226', 'V227', 'V228', 'V229', 'V231', 'V233', 'V234', 'V238', 'V239',\n",
    "                   'V242', 'V243', 'V244', 'V245', 'V246', 'V247', 'V249', 'V251', 'V253', 'V256', 'V257', 'V258', 'V259', 'V261',\n",
    "                   'V262', 'V263', 'V264', 'V265', 'V266', 'V267', 'V268', 'V270', 'V271', 'V272', 'V273', 'V274', 'V275', 'V276',\n",
    "                   'V277', 'V278', 'V279', 'V280', 'V282', 'V283', 'V285', 'V287', 'V288', 'V289', 'V291', 'V292', 'V294', 'V303',\n",
    "                   'V304', 'V306', 'V307', 'V308', 'V310', 'V312', 'V313', 'V314', 'V315', 'V317', 'V322', 'V323', 'V324', 'V326',\n",
    "                   'V329', 'V331', 'V332', 'V333', 'V335', 'V336', 'V338', 'id_01', 'id_02', 'id_03', 'id_05', 'id_06', 'id_09',\n",
    "                   'id_11', 'id_12', 'id_13', 'id_14', 'id_15', 'id_17', 'id_19', 'id_20', 'id_30', 'id_31', 'id_32', 'id_33',\n",
    "                   'id_36', 'id_37', 'id_38', 'DeviceType', 'DeviceInfo', 'device_name', 'device_version', 'OS_id_30', 'version_id_30',\n",
    "                   'browser_id_31', 'version_id_31', 'screen_width', 'screen_height', 'had_id']"
   ]
  },
  {
   "cell_type": "code",
   "execution_count": 242,
   "id": "799bc3e7",
   "metadata": {},
   "outputs": [
    {
     "name": "stdout",
     "output_type": "stream",
     "text": [
      "CPU times: user 4 µs, sys: 1e+03 ns, total: 5 µs\n",
      "Wall time: 17.9 µs\n"
     ]
    },
    {
     "data": {
      "text/plain": [
       "288"
      ]
     },
     "execution_count": 242,
     "metadata": {},
     "output_type": "execute_result"
    }
   ],
   "source": [
    "%%time\n",
    "len(useful_features)"
   ]
  },
  {
   "cell_type": "markdown",
   "id": "d68d60f6",
   "metadata": {},
   "source": [
    "### 5.1 Sampling"
   ]
  },
  {
   "cell_type": "code",
   "execution_count": 67,
   "id": "05b3b27e",
   "metadata": {},
   "outputs": [],
   "source": [
    "df_saved = df"
   ]
  },
  {
   "cell_type": "code",
   "execution_count": 68,
   "id": "79c13941",
   "metadata": {},
   "outputs": [],
   "source": [
    "df = df_saved"
   ]
  },
  {
   "cell_type": "code",
   "execution_count": 69,
   "id": "dc32ae2b",
   "metadata": {},
   "outputs": [],
   "source": [
    "# Calculate the distribution of the target column\n",
    "target_distribution = df['isFraud'].value_counts(normalize=True)\n",
    "\n",
    "# Set the random seed for reproducibility\n",
    "random_seed = 42\n",
    "\n",
    "# Sample the dataframe based on the target column distribution\n",
    "df_subset = df.groupby('isFraud', group_keys=False).apply(lambda x: x.sample(frac=min(len(x)/len(df), 0.05), random_state=random_seed))\n",
    "\n",
    "# Reset the index of the subset dataframe\n",
    "df_subset.reset_index(drop=True, inplace=True)"
   ]
  },
  {
   "cell_type": "code",
   "execution_count": 70,
   "id": "7e2271d7",
   "metadata": {},
   "outputs": [
    {
     "name": "stdout",
     "output_type": "stream",
     "text": [
      "(29217, 368)\n",
      "(590540, 368)\n"
     ]
    }
   ],
   "source": [
    "print(df_subset.shape)\n",
    "print(df.shape)"
   ]
  },
  {
   "cell_type": "code",
   "execution_count": 71,
   "id": "a99b4730",
   "metadata": {},
   "outputs": [],
   "source": [
    "df = df_subset"
   ]
  },
  {
   "cell_type": "markdown",
   "id": "37cf718e",
   "metadata": {},
   "source": [
    "### 5.2 Handling NaN"
   ]
  },
  {
   "cell_type": "code",
   "execution_count": 72,
   "id": "a04d0d71",
   "metadata": {},
   "outputs": [],
   "source": [
    "df = df.fillna(df.mean())"
   ]
  },
  {
   "cell_type": "code",
   "execution_count": 73,
   "id": "261f3c88",
   "metadata": {},
   "outputs": [],
   "source": [
    "scaler = MinMaxScaler(feature_range=(0, 1))\n",
    "X = df.drop('isFraud', axis=1).values\n",
    "X = scaler.fit_transform(X)\n",
    "y = df['isFraud'].values"
   ]
  },
  {
   "cell_type": "code",
   "execution_count": 74,
   "id": "e0b2d647",
   "metadata": {},
   "outputs": [
    {
     "data": {
      "text/plain": [
       "29217"
      ]
     },
     "execution_count": 74,
     "metadata": {},
     "output_type": "execute_result"
    }
   ],
   "source": [
    "len(X)"
   ]
  },
  {
   "cell_type": "code",
   "execution_count": 75,
   "id": "80894df7",
   "metadata": {},
   "outputs": [
    {
     "data": {
      "text/plain": [
       "29217"
      ]
     },
     "execution_count": 75,
     "metadata": {},
     "output_type": "execute_result"
    }
   ],
   "source": [
    "len(y)"
   ]
  },
  {
   "cell_type": "markdown",
   "id": "56e18f5b",
   "metadata": {},
   "source": [
    "## Testing Models"
   ]
  },
  {
   "cell_type": "code",
   "execution_count": 44,
   "id": "f07f56d1",
   "metadata": {},
   "outputs": [],
   "source": [
    "clf =   {'GB'     : GradientBoostingClassifier(learning_rate = 0.1, max_depth = 5, n_estimators = 100, random_state = 101),\n",
    "         'AB'     : AdaBoostClassifier(base_estimator = DecisionTreeClassifier(max_depth = 1),\n",
    "                                       learning_rate = 0.5, n_estimators = 100, random_state = 101),\n",
    "         'BR'     : BaggingClassifier(max_features = 0.9, max_samples = 0.66, n_estimators = 100, random_state = 101),\n",
    "         'LR'     : LogisticRegression(class_weight = 'balanced'),\n",
    "         'RF'     : RandomForestClassifier(max_features = 'auto', n_estimators = 100, bootstrap = True, \n",
    "                                           class_weight = 'balanced_subsample', random_state = 101),\n",
    "         'ET'     : ExtraTreesClassifier(max_features = 'auto', n_estimators = 100, bootstrap = True, \n",
    "                                         class_weight = 'balanced_subsample', random_state = 101),\n",
    "      }\n",
    "\n",
    "sampl = { 'None'   : None,\n",
    "          'SMOTE'  : SMOTE(random_state = 101),\n",
    "          'ADASYN' : ADASYN(random_state=101),\n",
    "          'RUS'    : RandomUnderSampler(random_state = 101)\n",
    "        }\n",
    "\n",
    "des = {   'APriori'  : APriori(),\n",
    "          'MCB'      : MCB(),\n",
    "          'OLA'      : OLA(), \n",
    "          'DESP'     : DESP(), \n",
    "          'KNORAE'   : KNORAE(), \n",
    "          'U-KNORAU' : KNORAU(), \n",
    "          'E-METADES ' : METADES() \n",
    "          }"
   ]
  },
  {
   "cell_type": "code",
   "execution_count": 45,
   "id": "32a04fa8",
   "metadata": {},
   "outputs": [
    {
     "data": {
      "text/plain": [
       "52"
      ]
     },
     "execution_count": 45,
     "metadata": {},
     "output_type": "execute_result"
    }
   ],
   "source": [
    "# Create pool of candidate models\n",
    "models = {}\n",
    "\n",
    "for s in sampl:\n",
    "    for c in clf:\n",
    "        models['S:' + s[0] + ':' + c[0]] = SamplingClassifier(est = clf[c], samp = sampl[s])\n",
    "\n",
    "for s in sampl:\n",
    "    for d in des:\n",
    "        models['D:' + s[0] + ':' + d[0]] = SamplingClassifier(est = des[d], samp = sampl[s])\n",
    "\n",
    "len(models)"
   ]
  },
  {
   "cell_type": "code",
   "execution_count": 238,
   "id": "b67957dd",
   "metadata": {},
   "outputs": [
    {
     "ename": "KeyboardInterrupt",
     "evalue": "",
     "output_type": "error",
     "traceback": [
      "\u001b[0;31m---------------------------------------------------------------------------\u001b[0m",
      "\u001b[0;31mKeyboardInterrupt\u001b[0m                         Traceback (most recent call last)",
      "Cell \u001b[0;32mIn[238], line 3\u001b[0m\n\u001b[1;32m      1\u001b[0m cv \u001b[38;5;241m=\u001b[39m \u001b[38;5;241m3\u001b[39m\n\u001b[0;32m----> 3\u001b[0m scores \u001b[38;5;241m=\u001b[39m \u001b[43mtest_models\u001b[49m\u001b[43m(\u001b[49m\u001b[43mmodels\u001b[49m\u001b[43m,\u001b[49m\u001b[43m \u001b[49m\u001b[43mX\u001b[49m\u001b[43m,\u001b[49m\u001b[43m \u001b[49m\u001b[43my\u001b[49m\u001b[43m,\u001b[49m\u001b[43m \u001b[49m\u001b[43mC_FP\u001b[49m\u001b[43m \u001b[49m\u001b[38;5;241;43m=\u001b[39;49m\u001b[43m \u001b[49m\u001b[38;5;241;43m1\u001b[39;49m\u001b[43m,\u001b[49m\u001b[43m \u001b[49m\u001b[43mC_FN\u001b[49m\u001b[43m \u001b[49m\u001b[38;5;241;43m=\u001b[39;49m\u001b[43m \u001b[49m\u001b[38;5;241;43m5\u001b[39;49m\u001b[43m,\u001b[49m\u001b[43m \u001b[49m\u001b[43mk\u001b[49m\u001b[43m \u001b[49m\u001b[38;5;241;43m=\u001b[39;49m\u001b[43m \u001b[49m\u001b[38;5;241;43m2\u001b[39;49m\u001b[43m,\u001b[49m\u001b[43m \u001b[49m\u001b[43mcv\u001b[49m\u001b[43m  \u001b[49m\u001b[38;5;241;43m=\u001b[39;49m\u001b[43m \u001b[49m\u001b[43mcv\u001b[49m\u001b[43m,\u001b[49m\u001b[43m \u001b[49m\u001b[43mverbose\u001b[49m\u001b[43m \u001b[49m\u001b[38;5;241;43m=\u001b[39;49m\u001b[43m \u001b[49m\u001b[38;5;28;43;01mTrue\u001b[39;49;00m\u001b[43m)\u001b[49m\n",
      "Cell \u001b[0;32mIn[122], line 14\u001b[0m, in \u001b[0;36mtest_models\u001b[0;34m(models, X, y, C_FP, C_FN, k, cv, verbose)\u001b[0m\n\u001b[1;32m     11\u001b[0m start \u001b[38;5;241m=\u001b[39m time()\n\u001b[1;32m     13\u001b[0m \u001b[38;5;66;03m#print('Start of the prediction. [%.1f s]' %(time() - start))\u001b[39;00m\n\u001b[0;32m---> 14\u001b[0m y_pred \u001b[38;5;241m=\u001b[39m \u001b[43mcross_val_predict\u001b[49m\u001b[43m(\u001b[49m\u001b[43mmodels\u001b[49m\u001b[43m[\u001b[49m\u001b[43mm\u001b[49m\u001b[43m]\u001b[49m\u001b[43m,\u001b[49m\u001b[43m \u001b[49m\u001b[43mX\u001b[49m\u001b[43m,\u001b[49m\u001b[43m \u001b[49m\u001b[43my\u001b[49m\u001b[43m,\u001b[49m\u001b[43m \u001b[49m\u001b[43mcv\u001b[49m\u001b[43m \u001b[49m\u001b[38;5;241;43m=\u001b[39;49m\u001b[43m \u001b[49m\u001b[43mcv\u001b[49m\u001b[43m)\u001b[49m\n\u001b[1;32m     16\u001b[0m \u001b[38;5;66;03m#print('Start of the confusion matrix.[%.1f s]' %(time() - start))\u001b[39;00m\n\u001b[1;32m     17\u001b[0m cm \u001b[38;5;241m=\u001b[39m confusion_matrix(y, y_pred)\n",
      "Cell \u001b[0;32mIn[119], line 8\u001b[0m, in \u001b[0;36mcross_val_predict\u001b[0;34m(est, X, y, cv)\u001b[0m\n\u001b[1;32m      5\u001b[0m kf \u001b[38;5;241m=\u001b[39m KFold(n_splits \u001b[38;5;241m=\u001b[39m cv, shuffle \u001b[38;5;241m=\u001b[39m \u001b[38;5;28;01mTrue\u001b[39;00m, random_state \u001b[38;5;241m=\u001b[39m \u001b[38;5;241m101\u001b[39m)\n\u001b[1;32m      6\u001b[0m \u001b[38;5;28;01mfor\u001b[39;00m train_index, test_index \u001b[38;5;129;01min\u001b[39;00m kf\u001b[38;5;241m.\u001b[39msplit(X, y):\n\u001b[1;32m      7\u001b[0m     \u001b[38;5;66;03m#print('Another Split. [%.1f s]' %(time() - start))\u001b[39;00m\n\u001b[0;32m----> 8\u001b[0m     \u001b[43mest\u001b[49m\u001b[38;5;241;43m.\u001b[39;49m\u001b[43mfit\u001b[49m\u001b[43m(\u001b[49m\u001b[43mX\u001b[49m\u001b[43m[\u001b[49m\u001b[43mtrain_index\u001b[49m\u001b[43m]\u001b[49m\u001b[43m,\u001b[49m\u001b[43m \u001b[49m\u001b[43my\u001b[49m\u001b[43m[\u001b[49m\u001b[43mtrain_index\u001b[49m\u001b[43m]\u001b[49m\u001b[43m)\u001b[49m\n\u001b[1;32m      9\u001b[0m     pred[test_index] \u001b[38;5;241m=\u001b[39m est\u001b[38;5;241m.\u001b[39mpredict(X[test_index])\n\u001b[1;32m     10\u001b[0m \u001b[38;5;28;01mreturn\u001b[39;00m pred\n",
      "Cell \u001b[0;32mIn[34], line 11\u001b[0m, in \u001b[0;36mSamplingClassifier.fit\u001b[0;34m(self, X, y)\u001b[0m\n\u001b[1;32m      9\u001b[0m \u001b[38;5;28;01melse\u001b[39;00m:\n\u001b[1;32m     10\u001b[0m     X_res, y_res \u001b[38;5;241m=\u001b[39m \u001b[38;5;28mself\u001b[39m\u001b[38;5;241m.\u001b[39msamp_\u001b[38;5;241m.\u001b[39mfit_resample(X, y)\n\u001b[0;32m---> 11\u001b[0m \u001b[38;5;28;43mself\u001b[39;49m\u001b[38;5;241;43m.\u001b[39;49m\u001b[43mest_\u001b[49m\u001b[38;5;241;43m.\u001b[39;49m\u001b[43mfit\u001b[49m\u001b[43m(\u001b[49m\u001b[43mX_res\u001b[49m\u001b[43m,\u001b[49m\u001b[43m \u001b[49m\u001b[43my_res\u001b[49m\u001b[43m)\u001b[49m\n",
      "File \u001b[0;32m/usr/local/lib/python3.11/site-packages/sklearn/ensemble/_gb.py:538\u001b[0m, in \u001b[0;36mBaseGradientBoosting.fit\u001b[0;34m(self, X, y, sample_weight, monitor)\u001b[0m\n\u001b[1;32m    535\u001b[0m     \u001b[38;5;28mself\u001b[39m\u001b[38;5;241m.\u001b[39m_resize_state()\n\u001b[1;32m    537\u001b[0m \u001b[38;5;66;03m# fit the boosting stages\u001b[39;00m\n\u001b[0;32m--> 538\u001b[0m n_stages \u001b[38;5;241m=\u001b[39m \u001b[38;5;28;43mself\u001b[39;49m\u001b[38;5;241;43m.\u001b[39;49m\u001b[43m_fit_stages\u001b[49m\u001b[43m(\u001b[49m\n\u001b[1;32m    539\u001b[0m \u001b[43m    \u001b[49m\u001b[43mX\u001b[49m\u001b[43m,\u001b[49m\n\u001b[1;32m    540\u001b[0m \u001b[43m    \u001b[49m\u001b[43my\u001b[49m\u001b[43m,\u001b[49m\n\u001b[1;32m    541\u001b[0m \u001b[43m    \u001b[49m\u001b[43mraw_predictions\u001b[49m\u001b[43m,\u001b[49m\n\u001b[1;32m    542\u001b[0m \u001b[43m    \u001b[49m\u001b[43msample_weight\u001b[49m\u001b[43m,\u001b[49m\n\u001b[1;32m    543\u001b[0m \u001b[43m    \u001b[49m\u001b[38;5;28;43mself\u001b[39;49m\u001b[38;5;241;43m.\u001b[39;49m\u001b[43m_rng\u001b[49m\u001b[43m,\u001b[49m\n\u001b[1;32m    544\u001b[0m \u001b[43m    \u001b[49m\u001b[43mX_val\u001b[49m\u001b[43m,\u001b[49m\n\u001b[1;32m    545\u001b[0m \u001b[43m    \u001b[49m\u001b[43my_val\u001b[49m\u001b[43m,\u001b[49m\n\u001b[1;32m    546\u001b[0m \u001b[43m    \u001b[49m\u001b[43msample_weight_val\u001b[49m\u001b[43m,\u001b[49m\n\u001b[1;32m    547\u001b[0m \u001b[43m    \u001b[49m\u001b[43mbegin_at_stage\u001b[49m\u001b[43m,\u001b[49m\n\u001b[1;32m    548\u001b[0m \u001b[43m    \u001b[49m\u001b[43mmonitor\u001b[49m\u001b[43m,\u001b[49m\n\u001b[1;32m    549\u001b[0m \u001b[43m\u001b[49m\u001b[43m)\u001b[49m\n\u001b[1;32m    551\u001b[0m \u001b[38;5;66;03m# change shape of arrays after fit (early-stopping or additional ests)\u001b[39;00m\n\u001b[1;32m    552\u001b[0m \u001b[38;5;28;01mif\u001b[39;00m n_stages \u001b[38;5;241m!=\u001b[39m \u001b[38;5;28mself\u001b[39m\u001b[38;5;241m.\u001b[39mestimators_\u001b[38;5;241m.\u001b[39mshape[\u001b[38;5;241m0\u001b[39m]:\n",
      "File \u001b[0;32m/usr/local/lib/python3.11/site-packages/sklearn/ensemble/_gb.py:615\u001b[0m, in \u001b[0;36mBaseGradientBoosting._fit_stages\u001b[0;34m(self, X, y, raw_predictions, sample_weight, random_state, X_val, y_val, sample_weight_val, begin_at_stage, monitor)\u001b[0m\n\u001b[1;32m    608\u001b[0m     old_oob_score \u001b[38;5;241m=\u001b[39m loss_(\n\u001b[1;32m    609\u001b[0m         y[\u001b[38;5;241m~\u001b[39msample_mask],\n\u001b[1;32m    610\u001b[0m         raw_predictions[\u001b[38;5;241m~\u001b[39msample_mask],\n\u001b[1;32m    611\u001b[0m         sample_weight[\u001b[38;5;241m~\u001b[39msample_mask],\n\u001b[1;32m    612\u001b[0m     )\n\u001b[1;32m    614\u001b[0m \u001b[38;5;66;03m# fit next stage of trees\u001b[39;00m\n\u001b[0;32m--> 615\u001b[0m raw_predictions \u001b[38;5;241m=\u001b[39m \u001b[38;5;28;43mself\u001b[39;49m\u001b[38;5;241;43m.\u001b[39;49m\u001b[43m_fit_stage\u001b[49m\u001b[43m(\u001b[49m\n\u001b[1;32m    616\u001b[0m \u001b[43m    \u001b[49m\u001b[43mi\u001b[49m\u001b[43m,\u001b[49m\n\u001b[1;32m    617\u001b[0m \u001b[43m    \u001b[49m\u001b[43mX\u001b[49m\u001b[43m,\u001b[49m\n\u001b[1;32m    618\u001b[0m \u001b[43m    \u001b[49m\u001b[43my\u001b[49m\u001b[43m,\u001b[49m\n\u001b[1;32m    619\u001b[0m \u001b[43m    \u001b[49m\u001b[43mraw_predictions\u001b[49m\u001b[43m,\u001b[49m\n\u001b[1;32m    620\u001b[0m \u001b[43m    \u001b[49m\u001b[43msample_weight\u001b[49m\u001b[43m,\u001b[49m\n\u001b[1;32m    621\u001b[0m \u001b[43m    \u001b[49m\u001b[43msample_mask\u001b[49m\u001b[43m,\u001b[49m\n\u001b[1;32m    622\u001b[0m \u001b[43m    \u001b[49m\u001b[43mrandom_state\u001b[49m\u001b[43m,\u001b[49m\n\u001b[1;32m    623\u001b[0m \u001b[43m    \u001b[49m\u001b[43mX_csc\u001b[49m\u001b[43m,\u001b[49m\n\u001b[1;32m    624\u001b[0m \u001b[43m    \u001b[49m\u001b[43mX_csr\u001b[49m\u001b[43m,\u001b[49m\n\u001b[1;32m    625\u001b[0m \u001b[43m\u001b[49m\u001b[43m)\u001b[49m\n\u001b[1;32m    627\u001b[0m \u001b[38;5;66;03m# track deviance (= loss)\u001b[39;00m\n\u001b[1;32m    628\u001b[0m \u001b[38;5;28;01mif\u001b[39;00m do_oob:\n",
      "File \u001b[0;32m/usr/local/lib/python3.11/site-packages/sklearn/ensemble/_gb.py:257\u001b[0m, in \u001b[0;36mBaseGradientBoosting._fit_stage\u001b[0;34m(self, i, X, y, raw_predictions, sample_weight, sample_mask, random_state, X_csc, X_csr)\u001b[0m\n\u001b[1;32m    254\u001b[0m     sample_weight \u001b[38;5;241m=\u001b[39m sample_weight \u001b[38;5;241m*\u001b[39m sample_mask\u001b[38;5;241m.\u001b[39mastype(np\u001b[38;5;241m.\u001b[39mfloat64)\n\u001b[1;32m    256\u001b[0m X \u001b[38;5;241m=\u001b[39m X_csr \u001b[38;5;28;01mif\u001b[39;00m X_csr \u001b[38;5;129;01mis\u001b[39;00m \u001b[38;5;129;01mnot\u001b[39;00m \u001b[38;5;28;01mNone\u001b[39;00m \u001b[38;5;28;01melse\u001b[39;00m X\n\u001b[0;32m--> 257\u001b[0m \u001b[43mtree\u001b[49m\u001b[38;5;241;43m.\u001b[39;49m\u001b[43mfit\u001b[49m\u001b[43m(\u001b[49m\u001b[43mX\u001b[49m\u001b[43m,\u001b[49m\u001b[43m \u001b[49m\u001b[43mresidual\u001b[49m\u001b[43m,\u001b[49m\u001b[43m \u001b[49m\u001b[43msample_weight\u001b[49m\u001b[38;5;241;43m=\u001b[39;49m\u001b[43msample_weight\u001b[49m\u001b[43m,\u001b[49m\u001b[43m \u001b[49m\u001b[43mcheck_input\u001b[49m\u001b[38;5;241;43m=\u001b[39;49m\u001b[38;5;28;43;01mFalse\u001b[39;49;00m\u001b[43m)\u001b[49m\n\u001b[1;32m    259\u001b[0m \u001b[38;5;66;03m# update tree leaves\u001b[39;00m\n\u001b[1;32m    260\u001b[0m loss\u001b[38;5;241m.\u001b[39mupdate_terminal_regions(\n\u001b[1;32m    261\u001b[0m     tree\u001b[38;5;241m.\u001b[39mtree_,\n\u001b[1;32m    262\u001b[0m     X,\n\u001b[0;32m   (...)\u001b[0m\n\u001b[1;32m    269\u001b[0m     k\u001b[38;5;241m=\u001b[39mk,\n\u001b[1;32m    270\u001b[0m )\n",
      "File \u001b[0;32m/usr/local/lib/python3.11/site-packages/sklearn/tree/_classes.py:1247\u001b[0m, in \u001b[0;36mDecisionTreeRegressor.fit\u001b[0;34m(self, X, y, sample_weight, check_input)\u001b[0m\n\u001b[1;32m   1218\u001b[0m \u001b[38;5;28;01mdef\u001b[39;00m \u001b[38;5;21mfit\u001b[39m(\u001b[38;5;28mself\u001b[39m, X, y, sample_weight\u001b[38;5;241m=\u001b[39m\u001b[38;5;28;01mNone\u001b[39;00m, check_input\u001b[38;5;241m=\u001b[39m\u001b[38;5;28;01mTrue\u001b[39;00m):\n\u001b[1;32m   1219\u001b[0m \u001b[38;5;250m    \u001b[39m\u001b[38;5;124;03m\"\"\"Build a decision tree regressor from the training set (X, y).\u001b[39;00m\n\u001b[1;32m   1220\u001b[0m \n\u001b[1;32m   1221\u001b[0m \u001b[38;5;124;03m    Parameters\u001b[39;00m\n\u001b[0;32m   (...)\u001b[0m\n\u001b[1;32m   1244\u001b[0m \u001b[38;5;124;03m        Fitted estimator.\u001b[39;00m\n\u001b[1;32m   1245\u001b[0m \u001b[38;5;124;03m    \"\"\"\u001b[39;00m\n\u001b[0;32m-> 1247\u001b[0m     \u001b[38;5;28;43msuper\u001b[39;49m\u001b[43m(\u001b[49m\u001b[43m)\u001b[49m\u001b[38;5;241;43m.\u001b[39;49m\u001b[43mfit\u001b[49m\u001b[43m(\u001b[49m\n\u001b[1;32m   1248\u001b[0m \u001b[43m        \u001b[49m\u001b[43mX\u001b[49m\u001b[43m,\u001b[49m\n\u001b[1;32m   1249\u001b[0m \u001b[43m        \u001b[49m\u001b[43my\u001b[49m\u001b[43m,\u001b[49m\n\u001b[1;32m   1250\u001b[0m \u001b[43m        \u001b[49m\u001b[43msample_weight\u001b[49m\u001b[38;5;241;43m=\u001b[39;49m\u001b[43msample_weight\u001b[49m\u001b[43m,\u001b[49m\n\u001b[1;32m   1251\u001b[0m \u001b[43m        \u001b[49m\u001b[43mcheck_input\u001b[49m\u001b[38;5;241;43m=\u001b[39;49m\u001b[43mcheck_input\u001b[49m\u001b[43m,\u001b[49m\n\u001b[1;32m   1252\u001b[0m \u001b[43m    \u001b[49m\u001b[43m)\u001b[49m\n\u001b[1;32m   1253\u001b[0m     \u001b[38;5;28;01mreturn\u001b[39;00m \u001b[38;5;28mself\u001b[39m\n",
      "File \u001b[0;32m/usr/local/lib/python3.11/site-packages/sklearn/tree/_classes.py:379\u001b[0m, in \u001b[0;36mBaseDecisionTree.fit\u001b[0;34m(self, X, y, sample_weight, check_input)\u001b[0m\n\u001b[1;32m    368\u001b[0m \u001b[38;5;28;01melse\u001b[39;00m:\n\u001b[1;32m    369\u001b[0m     builder \u001b[38;5;241m=\u001b[39m BestFirstTreeBuilder(\n\u001b[1;32m    370\u001b[0m         splitter,\n\u001b[1;32m    371\u001b[0m         min_samples_split,\n\u001b[0;32m   (...)\u001b[0m\n\u001b[1;32m    376\u001b[0m         \u001b[38;5;28mself\u001b[39m\u001b[38;5;241m.\u001b[39mmin_impurity_decrease,\n\u001b[1;32m    377\u001b[0m     )\n\u001b[0;32m--> 379\u001b[0m \u001b[43mbuilder\u001b[49m\u001b[38;5;241;43m.\u001b[39;49m\u001b[43mbuild\u001b[49m\u001b[43m(\u001b[49m\u001b[38;5;28;43mself\u001b[39;49m\u001b[38;5;241;43m.\u001b[39;49m\u001b[43mtree_\u001b[49m\u001b[43m,\u001b[49m\u001b[43m \u001b[49m\u001b[43mX\u001b[49m\u001b[43m,\u001b[49m\u001b[43m \u001b[49m\u001b[43my\u001b[49m\u001b[43m,\u001b[49m\u001b[43m \u001b[49m\u001b[43msample_weight\u001b[49m\u001b[43m)\u001b[49m\n\u001b[1;32m    381\u001b[0m \u001b[38;5;28;01mif\u001b[39;00m \u001b[38;5;28mself\u001b[39m\u001b[38;5;241m.\u001b[39mn_outputs_ \u001b[38;5;241m==\u001b[39m \u001b[38;5;241m1\u001b[39m \u001b[38;5;129;01mand\u001b[39;00m is_classifier(\u001b[38;5;28mself\u001b[39m):\n\u001b[1;32m    382\u001b[0m     \u001b[38;5;28mself\u001b[39m\u001b[38;5;241m.\u001b[39mn_classes_ \u001b[38;5;241m=\u001b[39m \u001b[38;5;28mself\u001b[39m\u001b[38;5;241m.\u001b[39mn_classes_[\u001b[38;5;241m0\u001b[39m]\n",
      "\u001b[0;31mKeyboardInterrupt\u001b[0m: "
     ]
    }
   ],
   "source": [
    "cv = 3\n",
    "\n",
    "scores = test_models(models, X, y, C_FP = 1, C_FN = 5, k = 2, cv  = cv, verbose = True)"
   ]
  },
  {
   "cell_type": "code",
   "execution_count": 223,
   "id": "f8566d7c",
   "metadata": {},
   "outputs": [],
   "source": [
    "scores_3cv_full = scores"
   ]
  },
  {
   "cell_type": "code",
   "execution_count": 224,
   "id": "507671e5",
   "metadata": {},
   "outputs": [],
   "source": [
    "scores_3cv_full.to_csv('scores_3cv_5p.csv')"
   ]
  },
  {
   "cell_type": "markdown",
   "id": "1c7d7db8",
   "metadata": {},
   "source": [
    "## Retrive scores"
   ]
  },
  {
   "cell_type": "code",
   "execution_count": 83,
   "id": "6fff83ea",
   "metadata": {},
   "outputs": [],
   "source": [
    "scores = pd.read_csv('scores_3cv_5p.csv')"
   ]
  },
  {
   "cell_type": "code",
   "execution_count": 84,
   "id": "89cb289e",
   "metadata": {},
   "outputs": [
    {
     "data": {
      "text/plain": [
       "Unnamed: 0      int64\n",
       "model          object\n",
       "F1            float64\n",
       "G_mean        float64\n",
       "AUC           float64\n",
       "FPR           float64\n",
       "FNR           float64\n",
       "Gen_mean      float64\n",
       "Costs         float64\n",
       "MCC           float64\n",
       "dtype: object"
      ]
     },
     "execution_count": 84,
     "metadata": {},
     "output_type": "execute_result"
    }
   ],
   "source": [
    "scores.dtypes"
   ]
  },
  {
   "cell_type": "code",
   "execution_count": 85,
   "id": "f3df66b6",
   "metadata": {},
   "outputs": [],
   "source": [
    "scores = scores.drop('Unnamed: 0', axis=1)"
   ]
  },
  {
   "cell_type": "code",
   "execution_count": 86,
   "id": "b8bc6d80",
   "metadata": {},
   "outputs": [
    {
     "data": {
      "text/html": [
       "<div>\n",
       "<style scoped>\n",
       "    .dataframe tbody tr th:only-of-type {\n",
       "        vertical-align: middle;\n",
       "    }\n",
       "\n",
       "    .dataframe tbody tr th {\n",
       "        vertical-align: top;\n",
       "    }\n",
       "\n",
       "    .dataframe thead th {\n",
       "        text-align: right;\n",
       "    }\n",
       "</style>\n",
       "<table border=\"1\" class=\"dataframe\">\n",
       "  <thead>\n",
       "    <tr style=\"text-align: right;\">\n",
       "      <th></th>\n",
       "      <th>model</th>\n",
       "      <th>F1</th>\n",
       "      <th>G_mean</th>\n",
       "      <th>AUC</th>\n",
       "      <th>FPR</th>\n",
       "      <th>FNR</th>\n",
       "      <th>Gen_mean</th>\n",
       "      <th>Costs</th>\n",
       "      <th>MCC</th>\n",
       "    </tr>\n",
       "  </thead>\n",
       "  <tbody>\n",
       "    <tr>\n",
       "      <th>0</th>\n",
       "      <td>S:N:G</td>\n",
       "      <td>0.358</td>\n",
       "      <td>0.520</td>\n",
       "      <td>0.633</td>\n",
       "      <td>6.317e-03</td>\n",
       "      <td>0.728</td>\n",
       "      <td>0.729</td>\n",
       "      <td>3.644</td>\n",
       "      <td>0.366</td>\n",
       "    </tr>\n",
       "    <tr>\n",
       "      <th>1</th>\n",
       "      <td>S:N:A</td>\n",
       "      <td>0.324</td>\n",
       "      <td>0.452</td>\n",
       "      <td>0.602</td>\n",
       "      <td>1.509e-03</td>\n",
       "      <td>0.795</td>\n",
       "      <td>0.721</td>\n",
       "      <td>3.978</td>\n",
       "      <td>0.392</td>\n",
       "    </tr>\n",
       "    <tr>\n",
       "      <th>2</th>\n",
       "      <td>S:N:B</td>\n",
       "      <td>0.352</td>\n",
       "      <td>0.473</td>\n",
       "      <td>0.611</td>\n",
       "      <td>1.228e-03</td>\n",
       "      <td>0.776</td>\n",
       "      <td>0.724</td>\n",
       "      <td>3.881</td>\n",
       "      <td>0.423</td>\n",
       "    </tr>\n",
       "    <tr>\n",
       "      <th>3</th>\n",
       "      <td>S:N:L</td>\n",
       "      <td>0.146</td>\n",
       "      <td>0.730</td>\n",
       "      <td>0.735</td>\n",
       "      <td>1.865e-01</td>\n",
       "      <td>0.344</td>\n",
       "      <td>0.739</td>\n",
       "      <td>1.908</td>\n",
       "      <td>0.183</td>\n",
       "    </tr>\n",
       "    <tr>\n",
       "      <th>4</th>\n",
       "      <td>S:N:R</td>\n",
       "      <td>0.240</td>\n",
       "      <td>0.372</td>\n",
       "      <td>0.569</td>\n",
       "      <td>3.510e-04</td>\n",
       "      <td>0.862</td>\n",
       "      <td>0.714</td>\n",
       "      <td>4.309</td>\n",
       "      <td>0.350</td>\n",
       "    </tr>\n",
       "  </tbody>\n",
       "</table>\n",
       "</div>"
      ],
      "text/plain": [
       "   model     F1  G_mean    AUC        FPR    FNR  Gen_mean  Costs    MCC\n",
       "0  S:N:G  0.358   0.520  0.633  6.317e-03  0.728     0.729  3.644  0.366\n",
       "1  S:N:A  0.324   0.452  0.602  1.509e-03  0.795     0.721  3.978  0.392\n",
       "2  S:N:B  0.352   0.473  0.611  1.228e-03  0.776     0.724  3.881  0.423\n",
       "3  S:N:L  0.146   0.730  0.735  1.865e-01  0.344     0.739  1.908  0.183\n",
       "4  S:N:R  0.240   0.372  0.569  3.510e-04  0.862     0.714  4.309  0.350"
      ]
     },
     "execution_count": 86,
     "metadata": {},
     "output_type": "execute_result"
    }
   ],
   "source": [
    "scores.head(5)"
   ]
  },
  {
   "cell_type": "code",
   "execution_count": 87,
   "id": "2cc6c2da",
   "metadata": {},
   "outputs": [],
   "source": [
    "import matplotlib.pyplot as plt\n",
    "%matplotlib inline\n",
    "\n",
    "np.set_printoptions(precision = 3, suppress = True)\n",
    "pd.set_option('display.precision', 3)\n",
    "\n",
    "import warnings\n",
    "warnings.filterwarnings(\"ignore\")"
   ]
  },
  {
   "cell_type": "code",
   "execution_count": 90,
   "id": "eb0b50a1",
   "metadata": {},
   "outputs": [
    {
     "data": {
      "image/png": "[encoded data removed]",
      "text/plain": [
       "<Figure size 640x480 with 1 Axes>"
      ]
     },
     "metadata": {},
     "output_type": "display_data"
    }
   ],
   "source": [
    "var = ['FNR', 'FPR']\n",
    "scores = pareto_ranking(scores, var)\n",
    "pareto_plot(scores, var)"
   ]
  },
  {
   "cell_type": "code",
   "execution_count": 91,
   "id": "0612a7c1",
   "metadata": {},
   "outputs": [
    {
     "data": {
      "image/png": "[encoded data removed]",
      "text/plain": [
       "<Figure size 640x480 with 1 Axes>"
      ]
     },
     "metadata": {},
     "output_type": "display_data"
    }
   ],
   "source": [
    "threshold = 0.4\n",
    "lens = scores[scores.FNR < threshold][scores.FPR < threshold]\n",
    "pareto_plot(lens, var)"
   ]
  },
  {
   "cell_type": "code",
   "execution_count": 92,
   "id": "f83e11e2",
   "metadata": {},
   "outputs": [
    {
     "name": "stdout",
     "output_type": "stream",
     "text": [
      "Rank 3 (13 models) average cost is   3.2\n",
      "Rank 2 ( 8 models) average cost is   3.1\n",
      "Rank 1 (12 models) average cost is   2.9\n",
      "Rank 4 ( 5 models) average cost is   2.8\n",
      "Rank 6 ( 5 models) average cost is   3.3\n",
      "Rank 7 ( 2 models) average cost is   2.8\n",
      "Rank 5 ( 7 models) average cost is   2.8\n"
     ]
    }
   ],
   "source": [
    "for r in scores['pareto_rank'].unique():\n",
    "    print('Rank %1d (%2d models) average cost is %5.1f' %(r, scores[scores['pareto_rank'] == r].Costs.count(),\n",
    "                                                             scores[scores['pareto_rank'] == r].Costs.mean()))"
   ]
  },
  {
   "cell_type": "markdown",
   "id": "38dfc0fe",
   "metadata": {},
   "source": [
    "## Final Ensamble"
   ]
  },
  {
   "cell_type": "code",
   "execution_count": 93,
   "id": "c33377e8",
   "metadata": {},
   "outputs": [],
   "source": [
    "class SimpleVoting(BaseEstimator):\n",
    "    def __init__(self, models):\n",
    "        self.estimators_ = models\n",
    "    \n",
    "    def fit(self, X, y, cv = 4):\n",
    "        for e in self.estimators_:\n",
    "            e.fit(X, y)\n",
    "    \n",
    "    def predict_proba(self, X):\n",
    "        pred_matrix = np.empty((X.shape[0], len(self.estimators_)))\n",
    "        for i, e in enumerate(self.estimators_):\n",
    "            pred_matrix[:,i] = e.predict(X)\n",
    "        return pred_matrix.mean(axis = 1)\n",
    "    \n",
    "    def predict(self, X, threshold = 0.5):\n",
    "        return np.array([0 if i < threshold else 1 for i in self.predict_proba(X)])"
   ]
  },
  {
   "cell_type": "code",
   "execution_count": 96,
   "id": "4243ebba",
   "metadata": {},
   "outputs": [
    {
     "name": "stdout",
     "output_type": "stream",
     "text": [
      "4\n",
      "12\n",
      "52\n"
     ]
    }
   ],
   "source": [
    "opt_model_set = []\n",
    "for m in lens[lens['pareto_rank'] == 1].model.values:\n",
    "    opt_model_set.append(models[m])\n",
    "print(len(opt_model_set))\n",
    "    \n",
    "ext_model_set = []\n",
    "for m in scores[scores['pareto_rank'] == 1].model.values:\n",
    "    ext_model_set.append(models[m])\n",
    "print(len(ext_model_set))\n",
    "\n",
    "full_model_set = []\n",
    "for m in scores.model.values:\n",
    "    full_model_set.append(models[m])\n",
    "print(len(full_model_set))"
   ]
  },
  {
   "cell_type": "code",
   "execution_count": 98,
   "id": "3d7fb9ca",
   "metadata": {},
   "outputs": [
    {
     "name": "stdout",
     "output_type": "stream",
     "text": [
      "3\n"
     ]
    },
    {
     "data": {
      "text/plain": [
       "<matplotlib.collections.PathCollection at 0x12a106ed0>"
      ]
     },
     "execution_count": 98,
     "metadata": {},
     "output_type": "execute_result"
    },
    {
     "data": {
      "image/png": "[encoded data removed]",
      "text/plain": [
       "<Figure size 640x480 with 1 Axes>"
      ]
     },
     "metadata": {},
     "output_type": "display_data"
    }
   ],
   "source": [
    "dist_thresh = 0\n",
    "threshold = 0.4\n",
    "th_scores = scores[scores.FNR < threshold][scores.FPR < threshold]\n",
    "new_scores = crowding_distance(th_scores[th_scores['pareto_rank'] == 1], var)\n",
    "\n",
    "dist_model_set = []\n",
    "for m in new_scores[new_scores.distance > dist_thresh].model.values:\n",
    "    dist_model_set.append(models[m])\n",
    "print(len(dist_model_set))\n",
    "plt.scatter(scores[scores['pareto_rank'] == 1].FNR, scores[scores['pareto_rank'] == 1].FPR, c ='r')\n",
    "plt.scatter(new_scores[new_scores.distance > dist_thresh].FNR, new_scores[new_scores.distance > dist_thresh].FPR, c ='g')             "
   ]
  },
  {
   "cell_type": "code",
   "execution_count": 95,
   "id": "43097974",
   "metadata": {},
   "outputs": [
    {
     "name": "stdout",
     "output_type": "stream",
     "text": [
      "  best est: F1 = 0.447 G_mean = 0.786 AUC = 0.787 FPR = 0.000 FNR = 0.220 Costs = 1.307 Gen_mean = 0.787 MCC = 0.458\n",
      "    sv_opt: F1 = 0.150 G_mean = 0.783 AUC = 0.783 FPR = 0.222 FNR = 0.213 Costs = 1.287 Gen_mean = 0.783 MCC = 0.207 [40.3 s]\n"
     ]
    }
   ],
   "source": [
    "new_models = {'sv_opt'  : SimpleVoting(opt_model_set),\n",
    "              #'sv_dist' : SimpleVoting(dist_model_set)\n",
    "             }\n",
    "cv = 3\n",
    "print('%10s: F1 = %.3f G_mean = %.3f AUC = %.3f FPR = %.3f FNR = %.3f Costs = %.3f Gen_mean = %.3f MCC = %.3f' \n",
    "      %('best est', scores.F1.max(), scores.G_mean.max(), scores.AUC.max(),  scores.FPR.min(),  \n",
    "        scores.FNR.min(), scores.Costs.min(), scores.Gen_mean.max(), scores.MCC.max()))\n",
    "\n",
    "scores_np = test_models(new_models, X, y, cv  = cv, verbose = True)"
   ]
  },
  {
   "cell_type": "code",
   "execution_count": 97,
   "id": "864ff202",
   "metadata": {},
   "outputs": [
    {
     "name": "stdout",
     "output_type": "stream",
     "text": [
      "  best est: F1 = 0.447 G_mean = 0.786 AUC = 0.787 FPR = 0.000 FNR = 0.220 Costs = 1.307 Gen_mean = 0.787 MCC = 0.458\n",
      "    sv_ext: F1 = 0.169 G_mean = 0.777 AUC = 0.778 FPR = 0.175 FNR = 0.268 Costs = 1.517 Gen_mean = 0.780 MCC = 0.221 [8.6 s]\n"
     ]
    }
   ],
   "source": [
    "new_models = {'sv_dist' : SimpleVoting(dist_model_set)\n",
    "             }\n",
    "cv = 3\n",
    "print('%10s: F1 = %.3f G_mean = %.3f AUC = %.3f FPR = %.3f FNR = %.3f Costs = %.3f Gen_mean = %.3f MCC = %.3f' \n",
    "      %('best est', scores.F1.max(), scores.G_mean.max(), scores.AUC.max(),  scores.FPR.min(),  \n",
    "        scores.FNR.min(), scores.Costs.min(), scores.Gen_mean.max(), scores.MCC.max()))\n",
    "\n",
    "scores_np = test_models(new_models, X, y, cv  = cv, verbose = True)"
   ]
  },
  {
   "cell_type": "code",
   "execution_count": 101,
   "id": "8d6f9b4f",
   "metadata": {},
   "outputs": [
    {
     "name": "stdout",
     "output_type": "stream",
     "text": [
      "  best est: F1 = 0.447 G_mean = 0.786 AUC = 0.787 FPR = 0.000 FNR = 0.220 Costs = 1.307 Gen_mean = 0.787 MCC = 0.458\n",
      "    sv_ext: F1 = 0.464 G_mean = 0.616 AUC = 0.688 FPR = 0.007 FNR = 0.618 Costs = 3.098 Gen_mean = 0.752 MCC = 0.465 [2090.4 s]\n"
     ]
    }
   ],
   "source": [
    "new_models = {'sv_ext' : SimpleVoting(ext_model_set)\n",
    "             }\n",
    "cv = 3\n",
    "print('%10s: F1 = %.3f G_mean = %.3f AUC = %.3f FPR = %.3f FNR = %.3f Costs = %.3f Gen_mean = %.3f MCC = %.3f' \n",
    "      %('best est', scores.F1.max(), scores.G_mean.max(), scores.AUC.max(),  scores.FPR.min(),  \n",
    "        scores.FNR.min(), scores.Costs.min(), scores.Gen_mean.max(), scores.MCC.max()))\n",
    "\n",
    "scores_np = test_models(new_models, X, y, cv  = cv, verbose = True)"
   ]
  },
  {
   "cell_type": "code",
   "execution_count": 100,
   "id": "f324f447",
   "metadata": {},
   "outputs": [
    {
     "data": {
      "text/html": [
       "<div>\n",
       "<style scoped>\n",
       "    .dataframe tbody tr th:only-of-type {\n",
       "        vertical-align: middle;\n",
       "    }\n",
       "\n",
       "    .dataframe tbody tr th {\n",
       "        vertical-align: top;\n",
       "    }\n",
       "\n",
       "    .dataframe thead th {\n",
       "        text-align: right;\n",
       "    }\n",
       "</style>\n",
       "<table border=\"1\" class=\"dataframe\">\n",
       "  <thead>\n",
       "    <tr style=\"text-align: right;\">\n",
       "      <th></th>\n",
       "      <th>model</th>\n",
       "      <th>F1</th>\n",
       "      <th>G_mean</th>\n",
       "      <th>AUC</th>\n",
       "      <th>FPR</th>\n",
       "      <th>FNR</th>\n",
       "      <th>Gen_mean</th>\n",
       "      <th>Costs</th>\n",
       "      <th>MCC</th>\n",
       "      <th>pareto_rank</th>\n",
       "    </tr>\n",
       "  </thead>\n",
       "  <tbody>\n",
       "    <tr>\n",
       "      <th>3</th>\n",
       "      <td>S:N:L</td>\n",
       "      <td>0.146</td>\n",
       "      <td>0.730</td>\n",
       "      <td>0.735</td>\n",
       "      <td>0.186</td>\n",
       "      <td>0.344</td>\n",
       "      <td>0.739</td>\n",
       "      <td>1.908</td>\n",
       "      <td>0.183</td>\n",
       "      <td>1.0</td>\n",
       "    </tr>\n",
       "    <tr>\n",
       "      <th>19</th>\n",
       "      <td>S:R:A</td>\n",
       "      <td>0.154</td>\n",
       "      <td>0.758</td>\n",
       "      <td>0.760</td>\n",
       "      <td>0.190</td>\n",
       "      <td>0.290</td>\n",
       "      <td>0.761</td>\n",
       "      <td>1.642</td>\n",
       "      <td>0.201</td>\n",
       "      <td>1.0</td>\n",
       "    </tr>\n",
       "    <tr>\n",
       "      <th>20</th>\n",
       "      <td>S:R:B</td>\n",
       "      <td>0.157</td>\n",
       "      <td>0.786</td>\n",
       "      <td>0.787</td>\n",
       "      <td>0.207</td>\n",
       "      <td>0.220</td>\n",
       "      <td>0.787</td>\n",
       "      <td>1.307</td>\n",
       "      <td>0.214</td>\n",
       "      <td>1.0</td>\n",
       "    </tr>\n",
       "    <tr>\n",
       "      <th>22</th>\n",
       "      <td>S:R:R</td>\n",
       "      <td>0.159</td>\n",
       "      <td>0.778</td>\n",
       "      <td>0.778</td>\n",
       "      <td>0.196</td>\n",
       "      <td>0.248</td>\n",
       "      <td>0.779</td>\n",
       "      <td>1.434</td>\n",
       "      <td>0.212</td>\n",
       "      <td>1.0</td>\n",
       "    </tr>\n",
       "  </tbody>\n",
       "</table>\n",
       "</div>"
      ],
      "text/plain": [
       "    model     F1  G_mean    AUC    FPR    FNR  Gen_mean  Costs    MCC   \n",
       "3   S:N:L  0.146   0.730  0.735  0.186  0.344     0.739  1.908  0.183  \\\n",
       "19  S:R:A  0.154   0.758  0.760  0.190  0.290     0.761  1.642  0.201   \n",
       "20  S:R:B  0.157   0.786  0.787  0.207  0.220     0.787  1.307  0.214   \n",
       "22  S:R:R  0.159   0.778  0.778  0.196  0.248     0.779  1.434  0.212   \n",
       "\n",
       "    pareto_rank  \n",
       "3           1.0  \n",
       "19          1.0  \n",
       "20          1.0  \n",
       "22          1.0  "
      ]
     },
     "execution_count": 100,
     "metadata": {},
     "output_type": "execute_result"
    }
   ],
   "source": [
    "scores[scores.FNR < 0.4][scores.FPR < 0.4][scores['pareto_rank'] == 1]"
   ]
  },
  {
   "cell_type": "code",
   "execution_count": null,
   "id": "e5eb9742",
   "metadata": {},
   "outputs": [],
   "source": []
  }
 ],
 "metadata": {
  "kernelspec": {
   "display_name": "Python 3 (ipykernel)",
   "language": "python",
   "name": "python3"
  },
  "language_info": {
   "codemirror_mode": {
    "name": "ipython",
    "version": 3
   },
   "file_extension": ".py",
   "mimetype": "text/x-python",
   "name": "python",
   "nbconvert_exporter": "python",
   "pygments_lexer": "ipython3",
   "version": "3.11.3"
  }
 },
 "nbformat": 4,
 "nbformat_minor": 5
}
